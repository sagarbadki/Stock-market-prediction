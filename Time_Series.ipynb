{
  "nbformat": 4,
  "nbformat_minor": 0,
  "metadata": {
    "colab": {
      "name": "Time Series.ipynb",
      "provenance": [],
      "collapsed_sections": []
    },
    "kernelspec": {
      "name": "python3",
      "display_name": "Python 3"
    },
    "accelerator": "GPU"
  },
  "cells": [
    {
      "cell_type": "code",
      "metadata": {
        "id": "gwAp09Y8G3qu",
        "colab_type": "code",
        "colab": {
          "base_uri": "https://localhost:8080/",
          "height": 71
        },
        "outputId": "3a748b9d-38e2-4d9d-f5f3-61b002ebb47a"
      },
      "source": [
        "import pandas as pd\n",
        "import numpy as np\n",
        "import matplotlib.pyplot as plt\n",
        "import seaborn as sns\n",
        "import requests\n",
        "import urllib\n",
        "import json\n",
        "import datetime as dt\n",
        "import pandas as pd\n",
        "import os"
      ],
      "execution_count": 1,
      "outputs": [
        {
          "output_type": "stream",
          "text": [
            "/usr/local/lib/python3.6/dist-packages/statsmodels/tools/_testing.py:19: FutureWarning: pandas.util.testing is deprecated. Use the functions in the public API at pandas.testing instead.\n",
            "  import pandas.util.testing as tm\n"
          ],
          "name": "stderr"
        }
      ]
    },
    {
      "cell_type": "code",
      "metadata": {
        "id": "UoDGHJPS0PiI",
        "colab_type": "code",
        "colab": {}
      },
      "source": [
        "API_key=<Your api key >\n",
        "url_string = \"https://www.quandl.com/api/v3/datasets/NSE/TATAGLOBAL.json?api_key=%s\"%(API_key)\n",
        "\n"
      ],
      "execution_count": 0,
      "outputs": []
    },
    {
      "cell_type": "code",
      "metadata": {
        "id": "gGlByNdE5oQK",
        "colab_type": "code",
        "colab": {}
      },
      "source": [
        "with urllib.request.urlopen(url_string) as url:\n",
        "    data = json.loads(url.read().decode())"
      ],
      "execution_count": 0,
      "outputs": []
    },
    {
      "cell_type": "code",
      "metadata": {
        "id": "OfW93HKl8B1b",
        "colab_type": "code",
        "colab": {}
      },
      "source": [
        "Date=[]\n",
        "Open=[]\n",
        "High=[]\n",
        "Low=[]\n",
        "Last=[]\n",
        "Close=[]\n",
        "trade=[]\n",
        "turnover=[]\n",
        "for i,j,k,l,m,n,o,p in data['dataset']['data']:\n",
        "  Date.append(i)\n",
        "  Open.append(j)\n",
        "  High.append(k)\n",
        "  Low.append(l)\n",
        "  Last.append(m)\n",
        "  Close.append(n)\n",
        "  trade.append(o)\n",
        "  turnover.append(p)\n"
      ],
      "execution_count": 0,
      "outputs": []
    },
    {
      "cell_type": "code",
      "metadata": {
        "id": "A7ky5A5u8DIM",
        "colab_type": "code",
        "colab": {}
      },
      "source": [
        "df=pd.DataFrame([Date,Open,High,Low,Last,Close,trade,turnover]).T"
      ],
      "execution_count": 0,
      "outputs": []
    },
    {
      "cell_type": "code",
      "metadata": {
        "id": "NQPdrm0K-1ml",
        "colab_type": "code",
        "colab": {}
      },
      "source": [
        "df.columns=[\"Date\",\"Open\",\"High\",\"Low\",\"Last\",\"Close\",\"Total Trade Quantity\",\"Turnover (Lacs)\"]"
      ],
      "execution_count": 0,
      "outputs": []
    },
    {
      "cell_type": "code",
      "metadata": {
        "id": "KCPug-It_jZ_",
        "colab_type": "code",
        "colab": {}
      },
      "source": [
        "df.Date=df.Date.apply(lambda x: dt.datetime.strptime(x,'%Y-%m-%d'))"
      ],
      "execution_count": 0,
      "outputs": []
    },
    {
      "cell_type": "code",
      "metadata": {
        "id": "kUUt3yrj97pI",
        "colab_type": "code",
        "colab": {}
      },
      "source": [
        "#convert to csv file\n",
        "df.to_csv('Tata_Global_Baverages_stock_market.csv',index=False)"
      ],
      "execution_count": 0,
      "outputs": []
    },
    {
      "cell_type": "code",
      "metadata": {
        "id": "U9JP_h7U-XLq",
        "colab_type": "code",
        "colab": {}
      },
      "source": [
        "#read csv file\n",
        "df=pd.read_csv('/content/Tata_Global_Baverages_stock_market.csv')"
      ],
      "execution_count": 0,
      "outputs": []
    },
    {
      "cell_type": "code",
      "metadata": {
        "id": "RnVAzdIh-gFZ",
        "colab_type": "code",
        "colab": {
          "base_uri": "https://localhost:8080/",
          "height": 419
        },
        "outputId": "5549c0f5-97d3-4e17-ffde-1ad88d64e32a"
      },
      "source": [
        "df"
      ],
      "execution_count": 75,
      "outputs": [
        {
          "output_type": "execute_result",
          "data": {
            "text/html": [
              "<div>\n",
              "<style scoped>\n",
              "    .dataframe tbody tr th:only-of-type {\n",
              "        vertical-align: middle;\n",
              "    }\n",
              "\n",
              "    .dataframe tbody tr th {\n",
              "        vertical-align: top;\n",
              "    }\n",
              "\n",
              "    .dataframe thead th {\n",
              "        text-align: right;\n",
              "    }\n",
              "</style>\n",
              "<table border=\"1\" class=\"dataframe\">\n",
              "  <thead>\n",
              "    <tr style=\"text-align: right;\">\n",
              "      <th></th>\n",
              "      <th>Date</th>\n",
              "      <th>Open</th>\n",
              "      <th>High</th>\n",
              "      <th>Low</th>\n",
              "      <th>Last</th>\n",
              "      <th>Close</th>\n",
              "      <th>Total Trade Quantity</th>\n",
              "      <th>Turnover (Lacs)</th>\n",
              "    </tr>\n",
              "  </thead>\n",
              "  <tbody>\n",
              "    <tr>\n",
              "      <th>0</th>\n",
              "      <td>2019-01-04</td>\n",
              "      <td>210.60</td>\n",
              "      <td>214.90</td>\n",
              "      <td>210.00</td>\n",
              "      <td>213.50</td>\n",
              "      <td>213.80</td>\n",
              "      <td>1213181.0</td>\n",
              "      <td>2583.05</td>\n",
              "    </tr>\n",
              "    <tr>\n",
              "      <th>1</th>\n",
              "      <td>2019-01-03</td>\n",
              "      <td>214.95</td>\n",
              "      <td>215.35</td>\n",
              "      <td>209.90</td>\n",
              "      <td>210.55</td>\n",
              "      <td>210.05</td>\n",
              "      <td>2096553.0</td>\n",
              "      <td>4433.50</td>\n",
              "    </tr>\n",
              "    <tr>\n",
              "      <th>2</th>\n",
              "      <td>2019-01-02</td>\n",
              "      <td>219.00</td>\n",
              "      <td>220.35</td>\n",
              "      <td>213.60</td>\n",
              "      <td>214.20</td>\n",
              "      <td>214.60</td>\n",
              "      <td>1081778.0</td>\n",
              "      <td>2340.31</td>\n",
              "    </tr>\n",
              "    <tr>\n",
              "      <th>3</th>\n",
              "      <td>2019-01-01</td>\n",
              "      <td>219.95</td>\n",
              "      <td>221.05</td>\n",
              "      <td>218.05</td>\n",
              "      <td>218.95</td>\n",
              "      <td>219.10</td>\n",
              "      <td>716275.0</td>\n",
              "      <td>1571.63</td>\n",
              "    </tr>\n",
              "    <tr>\n",
              "      <th>4</th>\n",
              "      <td>2018-12-31</td>\n",
              "      <td>222.00</td>\n",
              "      <td>223.65</td>\n",
              "      <td>218.85</td>\n",
              "      <td>219.55</td>\n",
              "      <td>219.40</td>\n",
              "      <td>965858.0</td>\n",
              "      <td>2131.09</td>\n",
              "    </tr>\n",
              "    <tr>\n",
              "      <th>...</th>\n",
              "      <td>...</td>\n",
              "      <td>...</td>\n",
              "      <td>...</td>\n",
              "      <td>...</td>\n",
              "      <td>...</td>\n",
              "      <td>...</td>\n",
              "      <td>...</td>\n",
              "      <td>...</td>\n",
              "    </tr>\n",
              "    <tr>\n",
              "      <th>2095</th>\n",
              "      <td>2010-07-27</td>\n",
              "      <td>117.60</td>\n",
              "      <td>119.50</td>\n",
              "      <td>112.00</td>\n",
              "      <td>118.80</td>\n",
              "      <td>118.65</td>\n",
              "      <td>586100.0</td>\n",
              "      <td>694.98</td>\n",
              "    </tr>\n",
              "    <tr>\n",
              "      <th>2096</th>\n",
              "      <td>2010-07-26</td>\n",
              "      <td>120.10</td>\n",
              "      <td>121.00</td>\n",
              "      <td>117.10</td>\n",
              "      <td>117.10</td>\n",
              "      <td>117.60</td>\n",
              "      <td>658440.0</td>\n",
              "      <td>780.01</td>\n",
              "    </tr>\n",
              "    <tr>\n",
              "      <th>2097</th>\n",
              "      <td>2010-07-23</td>\n",
              "      <td>121.80</td>\n",
              "      <td>121.95</td>\n",
              "      <td>120.25</td>\n",
              "      <td>120.35</td>\n",
              "      <td>120.65</td>\n",
              "      <td>281312.0</td>\n",
              "      <td>340.31</td>\n",
              "    </tr>\n",
              "    <tr>\n",
              "      <th>2098</th>\n",
              "      <td>2010-07-22</td>\n",
              "      <td>120.30</td>\n",
              "      <td>122.00</td>\n",
              "      <td>120.25</td>\n",
              "      <td>120.75</td>\n",
              "      <td>120.90</td>\n",
              "      <td>293312.0</td>\n",
              "      <td>355.17</td>\n",
              "    </tr>\n",
              "    <tr>\n",
              "      <th>2099</th>\n",
              "      <td>2010-07-21</td>\n",
              "      <td>122.10</td>\n",
              "      <td>123.00</td>\n",
              "      <td>121.05</td>\n",
              "      <td>121.10</td>\n",
              "      <td>121.55</td>\n",
              "      <td>658666.0</td>\n",
              "      <td>803.56</td>\n",
              "    </tr>\n",
              "  </tbody>\n",
              "</table>\n",
              "<p>2100 rows × 8 columns</p>\n",
              "</div>"
            ],
            "text/plain": [
              "            Date    Open    High  ...   Close  Total Trade Quantity  Turnover (Lacs)\n",
              "0     2019-01-04  210.60  214.90  ...  213.80             1213181.0          2583.05\n",
              "1     2019-01-03  214.95  215.35  ...  210.05             2096553.0          4433.50\n",
              "2     2019-01-02  219.00  220.35  ...  214.60             1081778.0          2340.31\n",
              "3     2019-01-01  219.95  221.05  ...  219.10              716275.0          1571.63\n",
              "4     2018-12-31  222.00  223.65  ...  219.40              965858.0          2131.09\n",
              "...          ...     ...     ...  ...     ...                   ...              ...\n",
              "2095  2010-07-27  117.60  119.50  ...  118.65              586100.0           694.98\n",
              "2096  2010-07-26  120.10  121.00  ...  117.60              658440.0           780.01\n",
              "2097  2010-07-23  121.80  121.95  ...  120.65              281312.0           340.31\n",
              "2098  2010-07-22  120.30  122.00  ...  120.90              293312.0           355.17\n",
              "2099  2010-07-21  122.10  123.00  ...  121.55              658666.0           803.56\n",
              "\n",
              "[2100 rows x 8 columns]"
            ]
          },
          "metadata": {
            "tags": []
          },
          "execution_count": 75
        }
      ]
    },
    {
      "cell_type": "code",
      "metadata": {
        "id": "Hir_EiReAkq4",
        "colab_type": "code",
        "colab": {}
      },
      "source": [
        "df.index=df.Date"
      ],
      "execution_count": 0,
      "outputs": []
    },
    {
      "cell_type": "code",
      "metadata": {
        "id": "jKefgfduBIZb",
        "colab_type": "code",
        "outputId": "f1d99946-6e2b-417e-b75e-fa299ea61108",
        "colab": {
          "base_uri": "https://localhost:8080/",
          "height": 450
        }
      },
      "source": [
        "df"
      ],
      "execution_count": 11,
      "outputs": [
        {
          "output_type": "execute_result",
          "data": {
            "text/html": [
              "<div>\n",
              "<style scoped>\n",
              "    .dataframe tbody tr th:only-of-type {\n",
              "        vertical-align: middle;\n",
              "    }\n",
              "\n",
              "    .dataframe tbody tr th {\n",
              "        vertical-align: top;\n",
              "    }\n",
              "\n",
              "    .dataframe thead th {\n",
              "        text-align: right;\n",
              "    }\n",
              "</style>\n",
              "<table border=\"1\" class=\"dataframe\">\n",
              "  <thead>\n",
              "    <tr style=\"text-align: right;\">\n",
              "      <th></th>\n",
              "      <th>Date</th>\n",
              "      <th>Open</th>\n",
              "      <th>High</th>\n",
              "      <th>Low</th>\n",
              "      <th>Last</th>\n",
              "      <th>Close</th>\n",
              "      <th>Total Trade Quantity</th>\n",
              "      <th>Turnover (Lacs)</th>\n",
              "    </tr>\n",
              "    <tr>\n",
              "      <th>Date</th>\n",
              "      <th></th>\n",
              "      <th></th>\n",
              "      <th></th>\n",
              "      <th></th>\n",
              "      <th></th>\n",
              "      <th></th>\n",
              "      <th></th>\n",
              "      <th></th>\n",
              "    </tr>\n",
              "  </thead>\n",
              "  <tbody>\n",
              "    <tr>\n",
              "      <th>2019-01-04</th>\n",
              "      <td>2019-01-04</td>\n",
              "      <td>210.6</td>\n",
              "      <td>214.9</td>\n",
              "      <td>210</td>\n",
              "      <td>213.5</td>\n",
              "      <td>213.8</td>\n",
              "      <td>1.21318e+06</td>\n",
              "      <td>2583.05</td>\n",
              "    </tr>\n",
              "    <tr>\n",
              "      <th>2019-01-03</th>\n",
              "      <td>2019-01-03</td>\n",
              "      <td>214.95</td>\n",
              "      <td>215.35</td>\n",
              "      <td>209.9</td>\n",
              "      <td>210.55</td>\n",
              "      <td>210.05</td>\n",
              "      <td>2.09655e+06</td>\n",
              "      <td>4433.5</td>\n",
              "    </tr>\n",
              "    <tr>\n",
              "      <th>2019-01-02</th>\n",
              "      <td>2019-01-02</td>\n",
              "      <td>219</td>\n",
              "      <td>220.35</td>\n",
              "      <td>213.6</td>\n",
              "      <td>214.2</td>\n",
              "      <td>214.6</td>\n",
              "      <td>1.08178e+06</td>\n",
              "      <td>2340.31</td>\n",
              "    </tr>\n",
              "    <tr>\n",
              "      <th>2019-01-01</th>\n",
              "      <td>2019-01-01</td>\n",
              "      <td>219.95</td>\n",
              "      <td>221.05</td>\n",
              "      <td>218.05</td>\n",
              "      <td>218.95</td>\n",
              "      <td>219.1</td>\n",
              "      <td>716275</td>\n",
              "      <td>1571.63</td>\n",
              "    </tr>\n",
              "    <tr>\n",
              "      <th>2018-12-31</th>\n",
              "      <td>2018-12-31</td>\n",
              "      <td>222</td>\n",
              "      <td>223.65</td>\n",
              "      <td>218.85</td>\n",
              "      <td>219.55</td>\n",
              "      <td>219.4</td>\n",
              "      <td>965858</td>\n",
              "      <td>2131.09</td>\n",
              "    </tr>\n",
              "    <tr>\n",
              "      <th>...</th>\n",
              "      <td>...</td>\n",
              "      <td>...</td>\n",
              "      <td>...</td>\n",
              "      <td>...</td>\n",
              "      <td>...</td>\n",
              "      <td>...</td>\n",
              "      <td>...</td>\n",
              "      <td>...</td>\n",
              "    </tr>\n",
              "    <tr>\n",
              "      <th>2010-07-27</th>\n",
              "      <td>2010-07-27</td>\n",
              "      <td>117.6</td>\n",
              "      <td>119.5</td>\n",
              "      <td>112</td>\n",
              "      <td>118.8</td>\n",
              "      <td>118.65</td>\n",
              "      <td>586100</td>\n",
              "      <td>694.98</td>\n",
              "    </tr>\n",
              "    <tr>\n",
              "      <th>2010-07-26</th>\n",
              "      <td>2010-07-26</td>\n",
              "      <td>120.1</td>\n",
              "      <td>121</td>\n",
              "      <td>117.1</td>\n",
              "      <td>117.1</td>\n",
              "      <td>117.6</td>\n",
              "      <td>658440</td>\n",
              "      <td>780.01</td>\n",
              "    </tr>\n",
              "    <tr>\n",
              "      <th>2010-07-23</th>\n",
              "      <td>2010-07-23</td>\n",
              "      <td>121.8</td>\n",
              "      <td>121.95</td>\n",
              "      <td>120.25</td>\n",
              "      <td>120.35</td>\n",
              "      <td>120.65</td>\n",
              "      <td>281312</td>\n",
              "      <td>340.31</td>\n",
              "    </tr>\n",
              "    <tr>\n",
              "      <th>2010-07-22</th>\n",
              "      <td>2010-07-22</td>\n",
              "      <td>120.3</td>\n",
              "      <td>122</td>\n",
              "      <td>120.25</td>\n",
              "      <td>120.75</td>\n",
              "      <td>120.9</td>\n",
              "      <td>293312</td>\n",
              "      <td>355.17</td>\n",
              "    </tr>\n",
              "    <tr>\n",
              "      <th>2010-07-21</th>\n",
              "      <td>2010-07-21</td>\n",
              "      <td>122.1</td>\n",
              "      <td>123</td>\n",
              "      <td>121.05</td>\n",
              "      <td>121.1</td>\n",
              "      <td>121.55</td>\n",
              "      <td>658666</td>\n",
              "      <td>803.56</td>\n",
              "    </tr>\n",
              "  </tbody>\n",
              "</table>\n",
              "<p>2100 rows × 8 columns</p>\n",
              "</div>"
            ],
            "text/plain": [
              "                 Date    Open  ... Total Trade Quantity Turnover (Lacs)\n",
              "Date                           ...                                     \n",
              "2019-01-04 2019-01-04   210.6  ...          1.21318e+06         2583.05\n",
              "2019-01-03 2019-01-03  214.95  ...          2.09655e+06          4433.5\n",
              "2019-01-02 2019-01-02     219  ...          1.08178e+06         2340.31\n",
              "2019-01-01 2019-01-01  219.95  ...               716275         1571.63\n",
              "2018-12-31 2018-12-31     222  ...               965858         2131.09\n",
              "...               ...     ...  ...                  ...             ...\n",
              "2010-07-27 2010-07-27   117.6  ...               586100          694.98\n",
              "2010-07-26 2010-07-26   120.1  ...               658440          780.01\n",
              "2010-07-23 2010-07-23   121.8  ...               281312          340.31\n",
              "2010-07-22 2010-07-22   120.3  ...               293312          355.17\n",
              "2010-07-21 2010-07-21   122.1  ...               658666          803.56\n",
              "\n",
              "[2100 rows x 8 columns]"
            ]
          },
          "metadata": {
            "tags": []
          },
          "execution_count": 11
        }
      ]
    },
    {
      "cell_type": "code",
      "metadata": {
        "id": "IUxxNVIyBSAI",
        "colab_type": "code",
        "outputId": "46abbe5d-d257-4a08-d796-16805bfc7dbc",
        "colab": {
          "base_uri": "https://localhost:8080/",
          "height": 286
        }
      },
      "source": [
        "df['Close'].plot()"
      ],
      "execution_count": 12,
      "outputs": [
        {
          "output_type": "execute_result",
          "data": {
            "text/plain": [
              "<matplotlib.axes._subplots.AxesSubplot at 0x7f57c1231710>"
            ]
          },
          "metadata": {
            "tags": []
          },
          "execution_count": 12
        },
        {
          "output_type": "display_data",
          "data": {
            "image/png": "[encoded data removed]",
            "text/plain": [
              "<Figure size 432x288 with 1 Axes>"
            ]
          },
          "metadata": {
            "tags": [],
            "needs_background": "light"
          }
        }
      ]
    },
    {
      "cell_type": "code",
      "metadata": {
        "id": "RkPMd0_2CJKd",
        "colab_type": "code",
        "outputId": "584a8033-0f4c-49b2-ac77-2c52f1195efd",
        "colab": {
          "base_uri": "https://localhost:8080/",
          "height": 286
        }
      },
      "source": [
        "df['Turnover (Lacs)'].plot()"
      ],
      "execution_count": 13,
      "outputs": [
        {
          "output_type": "execute_result",
          "data": {
            "text/plain": [
              "<matplotlib.axes._subplots.AxesSubplot at 0x7f57c1148908>"
            ]
          },
          "metadata": {
            "tags": []
          },
          "execution_count": 13
        },
        {
          "output_type": "display_data",
          "data": {
            "image/png": "[encoded data removed]",
            "text/plain": [
              "<Figure size 432x288 with 1 Axes>"
            ]
          },
          "metadata": {
            "tags": [],
            "needs_background": "light"
          }
        }
      ]
    },
    {
      "cell_type": "code",
      "metadata": {
        "id": "K-eK0RoHCeFe",
        "colab_type": "code",
        "outputId": "40afe6e1-68ec-4b8a-eaa4-2cad66ac14cc",
        "colab": {
          "base_uri": "https://localhost:8080/",
          "height": 297
        }
      },
      "source": [
        "df['Total Trade Quantity'].plot()"
      ],
      "execution_count": 14,
      "outputs": [
        {
          "output_type": "execute_result",
          "data": {
            "text/plain": [
              "<matplotlib.axes._subplots.AxesSubplot at 0x7f57c0bf3320>"
            ]
          },
          "metadata": {
            "tags": []
          },
          "execution_count": 14
        },
        {
          "output_type": "display_data",
          "data": {
            "image/png": "[encoded data removed]",
            "text/plain": [
              "<Figure size 432x288 with 1 Axes>"
            ]
          },
          "metadata": {
            "tags": [],
            "needs_background": "light"
          }
        }
      ]
    },
    {
      "cell_type": "markdown",
      "metadata": {
        "id": "WcozzMiH-z2D",
        "colab_type": "text"
      },
      "source": [
        "loss and profit are usually determined by closing value of stock market\n",
        "\n",
        "so we only do focus on close feature\n",
        "\n",
        "create new dataset"
      ]
    },
    {
      "cell_type": "code",
      "metadata": {
        "id": "_Yptyxo9Cz2U",
        "colab_type": "code",
        "colab": {}
      },
      "source": [
        "\n",
        "data=df.sort_index(ascending=True,axis=0)\n",
        "new_df=pd.DataFrame(index=range(0,df.shape[0]),columns=['Date','Close'])\n"
      ],
      "execution_count": 0,
      "outputs": []
    },
    {
      "cell_type": "code",
      "metadata": {
        "id": "nWgueTfOJIR2",
        "colab_type": "code",
        "colab": {}
      },
      "source": [
        "for i in range(0,len(data)):\n",
        "  new_df['Date'][i]=data['Date'][i]\n",
        "  new_df['Close'][i]=data['Close'][i]"
      ],
      "execution_count": 0,
      "outputs": []
    },
    {
      "cell_type": "code",
      "metadata": {
        "id": "TfCiqqwzJatm",
        "colab_type": "code",
        "colab": {}
      },
      "source": [
        "new_df.index=new_df.Date"
      ],
      "execution_count": 0,
      "outputs": []
    },
    {
      "cell_type": "code",
      "metadata": {
        "id": "l_GW5fzeKR93",
        "colab_type": "code",
        "colab": {}
      },
      "source": [
        "\n",
        "new_df=new_df[:'2018']\n",
        "new_df.drop('Date',axis=1,inplace=True)\n"
      ],
      "execution_count": 0,
      "outputs": []
    },
    {
      "cell_type": "markdown",
      "metadata": {
        "id": "Kujo46oC_Fts",
        "colab_type": "text"
      },
      "source": [
        "we had only 4 days values of the year 2019 so we will not include this data"
      ]
    },
    {
      "cell_type": "code",
      "metadata": {
        "id": "CG59VBcEK9vu",
        "colab_type": "code",
        "colab": {}
      },
      "source": [
        "\n",
        "train=new_df[:'2017']\n",
        "valid=new_df['2018']"
      ],
      "execution_count": 0,
      "outputs": []
    },
    {
      "cell_type": "markdown",
      "metadata": {
        "id": "Pbd4RSI7_Mzi",
        "colab_type": "text"
      },
      "source": [
        "we took 2018 year data for validation and remain for training data"
      ]
    },
    {
      "cell_type": "code",
      "metadata": {
        "id": "MElD5AxsLirr",
        "colab_type": "code",
        "outputId": "9523151e-2414-4719-9797-54fcab3c38c4",
        "colab": {
          "base_uri": "https://localhost:8080/",
          "height": 51
        }
      },
      "source": [
        "print('training size',train.shape)\n",
        "print('validation size',valid.shape)"
      ],
      "execution_count": 20,
      "outputs": [
        {
          "output_type": "stream",
          "text": [
            "training size (1850, 1)\n",
            "validation size (246, 1)\n"
          ],
          "name": "stdout"
        }
      ]
    },
    {
      "cell_type": "code",
      "metadata": {
        "id": "mGyGH64CQCWs",
        "colab_type": "code",
        "outputId": "8fdc00e9-0b87-4368-aedb-76ceab4a75df",
        "colab": {
          "base_uri": "https://localhost:8080/",
          "height": 241
        }
      },
      "source": [
        "!pip install pyramid-arima"
      ],
      "execution_count": 21,
      "outputs": [
        {
          "output_type": "stream",
          "text": [
            "Requirement already satisfied: pyramid-arima in /usr/local/lib/python3.6/dist-packages (0.9.0)\n",
            "Requirement already satisfied: Cython>=0.23 in /usr/local/lib/python3.6/dist-packages (from pyramid-arima) (0.29.19)\n",
            "Requirement already satisfied: scikit-learn>=0.17 in /usr/local/lib/python3.6/dist-packages (from pyramid-arima) (0.22.2.post1)\n",
            "Requirement already satisfied: statsmodels>=0.9.0 in /usr/local/lib/python3.6/dist-packages (from pyramid-arima) (0.10.2)\n",
            "Requirement already satisfied: scipy>=0.9 in /usr/local/lib/python3.6/dist-packages (from pyramid-arima) (1.4.1)\n",
            "Requirement already satisfied: pandas>=0.19 in /usr/local/lib/python3.6/dist-packages (from pyramid-arima) (1.0.4)\n",
            "Requirement already satisfied: numpy>=1.10 in /usr/local/lib/python3.6/dist-packages (from pyramid-arima) (1.18.4)\n",
            "Requirement already satisfied: joblib>=0.11 in /usr/local/lib/python3.6/dist-packages (from scikit-learn>=0.17->pyramid-arima) (0.15.1)\n",
            "Requirement already satisfied: patsy>=0.4.0 in /usr/local/lib/python3.6/dist-packages (from statsmodels>=0.9.0->pyramid-arima) (0.5.1)\n",
            "Requirement already satisfied: python-dateutil>=2.6.1 in /usr/local/lib/python3.6/dist-packages (from pandas>=0.19->pyramid-arima) (2.8.1)\n",
            "Requirement already satisfied: pytz>=2017.2 in /usr/local/lib/python3.6/dist-packages (from pandas>=0.19->pyramid-arima) (2018.9)\n",
            "Requirement already satisfied: six in /usr/local/lib/python3.6/dist-packages (from patsy>=0.4.0->statsmodels>=0.9.0->pyramid-arima) (1.12.0)\n"
          ],
          "name": "stdout"
        }
      ]
    },
    {
      "cell_type": "markdown",
      "metadata": {
        "id": "SyEO7tND_Rrb",
        "colab_type": "text"
      },
      "source": [
        "first we will go for arima"
      ]
    },
    {
      "cell_type": "code",
      "metadata": {
        "id": "KzbEA3xELy4C",
        "colab_type": "code",
        "colab": {
          "base_uri": "https://localhost:8080/",
          "height": 309
        },
        "outputId": "06bef48b-0b82-42f6-b311-e6ace1c9dac4"
      },
      "source": [
        "\n",
        "import statsmodels.api as sm\n",
        "from pyramid.arima import auto_arima"
      ],
      "execution_count": 22,
      "outputs": [
        {
          "output_type": "stream",
          "text": [
            "/usr/local/lib/python3.6/dist-packages/sklearn/externals/six.py:31: FutureWarning: The module is deprecated in version 0.21 and will be removed in version 0.23 since we've dropped support for Python 2.7. Please rely on the official version of six (https://pypi.org/project/six/).\n",
            "  \"(https://pypi.org/project/six/).\", FutureWarning)\n",
            "/usr/local/lib/python3.6/dist-packages/sklearn/externals/joblib/__init__.py:15: FutureWarning: sklearn.externals.joblib is deprecated in 0.21 and will be removed in 0.23. Please import this functionality directly from joblib, which can be installed with: pip install joblib. If this warning is raised when loading pickled models, you may need to re-serialize those models with scikit-learn 0.21+.\n",
            "  warnings.warn(msg, category=FutureWarning)\n",
            "/usr/local/lib/python3.6/dist-packages/pyramid/__init__.py:68: UserWarning: \n",
            "    The 'pyramid' package will be migrating to a new namespace beginning in \n",
            "    version 1.0.0: 'pmdarima'. This is due to a package name collision with the\n",
            "    Pyramid web framework. For more information, see Issue #34:\n",
            "    \n",
            "        https://github.com/tgsmith61591/pyramid/issues/34\n",
            "        \n",
            "    The package will subsequently be installable via the name 'pmdarima'; the\n",
            "    only functional change to the user will be the import name. All imports\n",
            "    from 'pyramid' will change to 'pmdarima'.\n",
            "    \n",
            "  \"\"\", UserWarning)\n"
          ],
          "name": "stderr"
        }
      ]
    },
    {
      "cell_type": "code",
      "metadata": {
        "id": "sX-QFPcSQAKm",
        "colab_type": "code",
        "outputId": "1027d3de-a756-4b01-eda8-051cd311bac1",
        "colab": {
          "base_uri": "https://localhost:8080/",
          "height": 204
        }
      },
      "source": [
        "model=auto_arima(train,trace=True, error_action='ignore', suppress_warnings=True)\n",
        "model.fit(train)\n",
        "\n",
        "forecast=model.predict(n_periods=len(valid))\n"
      ],
      "execution_count": 23,
      "outputs": [
        {
          "output_type": "stream",
          "text": [
            "Fit ARIMA: order=(2, 2, 2) seasonal_order=(0, 0, 0, 1); AIC=9130.922, BIC=9164.053, Fit time=3.090 seconds\n",
            "Fit ARIMA: order=(0, 2, 0) seasonal_order=(0, 0, 0, 1); AIC=10439.763, BIC=10450.806, Fit time=0.069 seconds\n",
            "Fit ARIMA: order=(1, 2, 0) seasonal_order=(0, 0, 0, 1); AIC=9881.349, BIC=9897.915, Fit time=0.156 seconds\n",
            "Fit ARIMA: order=(0, 2, 1) seasonal_order=(0, 0, 0, 1); AIC=9137.483, BIC=9154.049, Fit time=0.737 seconds\n",
            "Fit ARIMA: order=(1, 2, 2) seasonal_order=(0, 0, 0, 1); AIC=9133.150, BIC=9160.760, Fit time=1.703 seconds\n",
            "Fit ARIMA: order=(3, 2, 2) seasonal_order=(0, 0, 0, 1); AIC=9131.195, BIC=9169.848, Fit time=3.715 seconds\n",
            "Fit ARIMA: order=(2, 2, 1) seasonal_order=(0, 0, 0, 1); AIC=9140.433, BIC=9168.043, Fit time=1.415 seconds\n",
            "Fit ARIMA: order=(2, 2, 3) seasonal_order=(0, 0, 0, 1); AIC=9140.128, BIC=9178.781, Fit time=3.532 seconds\n",
            "Fit ARIMA: order=(1, 2, 1) seasonal_order=(0, 0, 0, 1); AIC=9138.434, BIC=9160.521, Fit time=1.601 seconds\n",
            "Fit ARIMA: order=(3, 2, 3) seasonal_order=(0, 0, 0, 1); AIC=9134.452, BIC=9178.627, Fit time=4.980 seconds\n",
            "Total fit time: 21.011 seconds\n"
          ],
          "name": "stdout"
        }
      ]
    },
    {
      "cell_type": "code",
      "metadata": {
        "id": "ujMGb4UHQvof",
        "colab_type": "code",
        "outputId": "b12d8869-be3d-45ef-f22d-dd4efcaac6df",
        "colab": {
          "base_uri": "https://localhost:8080/",
          "height": 281
        }
      },
      "source": [
        "import matplotlib.pyplot as plt\n",
        "from sklearn.metrics import mean_squared_error\n",
        "import numpy as np\n",
        "\n",
        "forecast = pd.DataFrame(forecast,index = valid.index,columns=['Prediction'])\n",
        "\n",
        "#plot the predictions for validation set\n",
        "plt.plot(train, label='Train')\n",
        "plt.plot(valid, label='Valid')\n",
        "plt.plot(forecast, label='Prediction')\n",
        "plt.legend()\n",
        "plt.title('RMSE Score :{}'.format(np.sqrt(mean_squared_error(valid,forecast))))\n",
        "plt.show()"
      ],
      "execution_count": 24,
      "outputs": [
        {
          "output_type": "display_data",
          "data": {
            "image/png": "[encoded data removed]",
            "text/plain": [
              "<Figure size 432x288 with 1 Axes>"
            ]
          },
          "metadata": {
            "tags": [],
            "needs_background": "light"
          }
        }
      ]
    },
    {
      "cell_type": "markdown",
      "metadata": {
        "id": "mhnvvrbm_bui",
        "colab_type": "text"
      },
      "source": [
        "we can see that our prediction cought the trend but doesn't give me better result"
      ]
    },
    {
      "cell_type": "code",
      "metadata": {
        "id": "265MPv97RXmA",
        "colab_type": "code",
        "outputId": "0bc4f6bf-decb-4f66-aa77-e2f05cc18960",
        "colab": {
          "base_uri": "https://localhost:8080/",
          "height": 139
        }
      },
      "source": [
        "# lets use Prophet which is established by Facebook\n",
        "! pip install Prophet"
      ],
      "execution_count": 25,
      "outputs": [
        {
          "output_type": "stream",
          "text": [
            "Requirement already satisfied: Prophet in /usr/local/lib/python3.6/dist-packages (0.1.1)\n",
            "Requirement already satisfied: pytz>=2014.9 in /usr/local/lib/python3.6/dist-packages (from Prophet) (2018.9)\n",
            "Requirement already satisfied: six>=1.8.0 in /usr/local/lib/python3.6/dist-packages (from Prophet) (1.12.0)\n",
            "Requirement already satisfied: pandas>=0.15.1 in /usr/local/lib/python3.6/dist-packages (from Prophet) (1.0.4)\n",
            "Requirement already satisfied: python-dateutil>=2.6.1 in /usr/local/lib/python3.6/dist-packages (from pandas>=0.15.1->Prophet) (2.8.1)\n",
            "Requirement already satisfied: numpy>=1.13.3 in /usr/local/lib/python3.6/dist-packages (from pandas>=0.15.1->Prophet) (1.18.4)\n"
          ],
          "name": "stdout"
        }
      ]
    },
    {
      "cell_type": "code",
      "metadata": {
        "id": "wu_f_cvBWPPC",
        "colab_type": "code",
        "colab": {}
      },
      "source": [
        "#preparing data\n",
        "\n",
        "data=df.sort_index(ascending=True,axis=0)\n",
        "new_df=pd.DataFrame(index=range(0,df.shape[0]),columns=['Date','Close'])\n",
        "\n",
        "for i in range(0,len(data)):\n",
        "  new_df['Date'][i]=data['Date'][i]\n",
        "  new_df['Close'][i]=data['Close'][i]\n",
        "\n",
        "\n"
      ],
      "execution_count": 0,
      "outputs": []
    },
    {
      "cell_type": "code",
      "metadata": {
        "id": "S9jyhXEvYcR8",
        "colab_type": "code",
        "colab": {}
      },
      "source": [
        "new_df.rename({'Date':'ds','Close':'y'},axis=1,inplace=True)"
      ],
      "execution_count": 0,
      "outputs": []
    },
    {
      "cell_type": "code",
      "metadata": {
        "id": "8k1J71e1Ydec",
        "colab_type": "code",
        "colab": {}
      },
      "source": [
        "new_df=new_df[:2096]"
      ],
      "execution_count": 0,
      "outputs": []
    },
    {
      "cell_type": "code",
      "metadata": {
        "id": "e66TPkykdjhw",
        "colab_type": "code",
        "colab": {}
      },
      "source": [
        "train=new_df[:1850]\n",
        "valid=new_df[1850:]"
      ],
      "execution_count": 0,
      "outputs": []
    },
    {
      "cell_type": "code",
      "metadata": {
        "id": "NXFGBajRaypx",
        "colab_type": "code",
        "outputId": "a4a37e05-f50a-434a-b011-32dcae57b5af",
        "colab": {
          "base_uri": "https://localhost:8080/",
          "height": 51
        }
      },
      "source": [
        "print('training size',train.shape)\n",
        "print('validation size',valid.shape)"
      ],
      "execution_count": 30,
      "outputs": [
        {
          "output_type": "stream",
          "text": [
            "training size (1850, 2)\n",
            "validation size (246, 2)\n"
          ],
          "name": "stdout"
        }
      ]
    },
    {
      "cell_type": "code",
      "metadata": {
        "id": "R4Rt1qZwa7YW",
        "colab_type": "code",
        "outputId": "aea8cc6c-c7e4-4131-c553-c8832b7a6d6c",
        "colab": {
          "base_uri": "https://localhost:8080/",
          "height": 315
        }
      },
      "source": [
        "from fbprophet import Prophet\n",
        "\n",
        "model=Prophet()\n",
        "model.fit(train)\n",
        "#predictions\n",
        "close_prices = model.make_future_dataframe(periods=len(valid))\n",
        "\n",
        "forecast=model.predict(close_prices)\n",
        "\n",
        "valid_forecast=forecast['yhat'][1850:]\n",
        "\n",
        "#plot the predictions for validation set\n",
        "plt.plot(train['y'], label='Train')\n",
        "plt.plot(valid['y'], label='Valid')\n",
        "plt.plot(valid_forecast, label='Prediction')\n",
        "plt.legend()\n",
        "plt.title('RMSE Score :{}'.format(np.sqrt(mean_squared_error(valid['y'],valid_forecast))))\n",
        "plt.show()\n"
      ],
      "execution_count": 31,
      "outputs": [
        {
          "output_type": "stream",
          "text": [
            "INFO:numexpr.utils:NumExpr defaulting to 2 threads.\n",
            "INFO:fbprophet:Disabling daily seasonality. Run prophet with daily_seasonality=True to override this.\n"
          ],
          "name": "stderr"
        },
        {
          "output_type": "display_data",
          "data": {
            "image/png": "[encoded data removed]",
            "text/plain": [
              "<Figure size 432x288 with 1 Axes>"
            ]
          },
          "metadata": {
            "tags": [],
            "needs_background": "light"
          }
        }
      ]
    },
    {
      "cell_type": "markdown",
      "metadata": {
        "id": "Xt1ZVYvv_u3P",
        "colab_type": "text"
      },
      "source": [
        "we can see it gives better result as compare to the ARIMA"
      ]
    },
    {
      "cell_type": "code",
      "metadata": {
        "id": "KBmLJcnXd8sa",
        "colab_type": "code",
        "colab": {}
      },
      "source": [
        "# now we will go for LSTM which is a deep learning concept"
      ],
      "execution_count": 0,
      "outputs": []
    },
    {
      "cell_type": "code",
      "metadata": {
        "id": "emkeghwVf_MS",
        "colab_type": "code",
        "outputId": "0766cb7e-520e-4d0c-e12d-2453441d2106",
        "colab": {
          "base_uri": "https://localhost:8080/",
          "height": 450
        }
      },
      "source": [
        "from keras.layers import LSTM,Dense,Flatten,Dropout,Bidirectional\n",
        "from keras.models import Sequential\n",
        "from sklearn.preprocessing import MinMaxScaler\n",
        "\n",
        "data"
      ],
      "execution_count": 65,
      "outputs": [
        {
          "output_type": "execute_result",
          "data": {
            "text/html": [
              "<div>\n",
              "<style scoped>\n",
              "    .dataframe tbody tr th:only-of-type {\n",
              "        vertical-align: middle;\n",
              "    }\n",
              "\n",
              "    .dataframe tbody tr th {\n",
              "        vertical-align: top;\n",
              "    }\n",
              "\n",
              "    .dataframe thead th {\n",
              "        text-align: right;\n",
              "    }\n",
              "</style>\n",
              "<table border=\"1\" class=\"dataframe\">\n",
              "  <thead>\n",
              "    <tr style=\"text-align: right;\">\n",
              "      <th></th>\n",
              "      <th>Date</th>\n",
              "      <th>Open</th>\n",
              "      <th>High</th>\n",
              "      <th>Low</th>\n",
              "      <th>Last</th>\n",
              "      <th>Close</th>\n",
              "      <th>Total Trade Quantity</th>\n",
              "      <th>Turnover (Lacs)</th>\n",
              "    </tr>\n",
              "    <tr>\n",
              "      <th>Date</th>\n",
              "      <th></th>\n",
              "      <th></th>\n",
              "      <th></th>\n",
              "      <th></th>\n",
              "      <th></th>\n",
              "      <th></th>\n",
              "      <th></th>\n",
              "      <th></th>\n",
              "    </tr>\n",
              "  </thead>\n",
              "  <tbody>\n",
              "    <tr>\n",
              "      <th>2010-07-21</th>\n",
              "      <td>2010-07-21</td>\n",
              "      <td>122.1</td>\n",
              "      <td>123</td>\n",
              "      <td>121.05</td>\n",
              "      <td>121.1</td>\n",
              "      <td>121.55</td>\n",
              "      <td>658666</td>\n",
              "      <td>803.56</td>\n",
              "    </tr>\n",
              "    <tr>\n",
              "      <th>2010-07-22</th>\n",
              "      <td>2010-07-22</td>\n",
              "      <td>120.3</td>\n",
              "      <td>122</td>\n",
              "      <td>120.25</td>\n",
              "      <td>120.75</td>\n",
              "      <td>120.9</td>\n",
              "      <td>293312</td>\n",
              "      <td>355.17</td>\n",
              "    </tr>\n",
              "    <tr>\n",
              "      <th>2010-07-23</th>\n",
              "      <td>2010-07-23</td>\n",
              "      <td>121.8</td>\n",
              "      <td>121.95</td>\n",
              "      <td>120.25</td>\n",
              "      <td>120.35</td>\n",
              "      <td>120.65</td>\n",
              "      <td>281312</td>\n",
              "      <td>340.31</td>\n",
              "    </tr>\n",
              "    <tr>\n",
              "      <th>2010-07-26</th>\n",
              "      <td>2010-07-26</td>\n",
              "      <td>120.1</td>\n",
              "      <td>121</td>\n",
              "      <td>117.1</td>\n",
              "      <td>117.1</td>\n",
              "      <td>117.6</td>\n",
              "      <td>658440</td>\n",
              "      <td>780.01</td>\n",
              "    </tr>\n",
              "    <tr>\n",
              "      <th>2010-07-27</th>\n",
              "      <td>2010-07-27</td>\n",
              "      <td>117.6</td>\n",
              "      <td>119.5</td>\n",
              "      <td>112</td>\n",
              "      <td>118.8</td>\n",
              "      <td>118.65</td>\n",
              "      <td>586100</td>\n",
              "      <td>694.98</td>\n",
              "    </tr>\n",
              "    <tr>\n",
              "      <th>...</th>\n",
              "      <td>...</td>\n",
              "      <td>...</td>\n",
              "      <td>...</td>\n",
              "      <td>...</td>\n",
              "      <td>...</td>\n",
              "      <td>...</td>\n",
              "      <td>...</td>\n",
              "      <td>...</td>\n",
              "    </tr>\n",
              "    <tr>\n",
              "      <th>2018-12-31</th>\n",
              "      <td>2018-12-31</td>\n",
              "      <td>222</td>\n",
              "      <td>223.65</td>\n",
              "      <td>218.85</td>\n",
              "      <td>219.55</td>\n",
              "      <td>219.4</td>\n",
              "      <td>965858</td>\n",
              "      <td>2131.09</td>\n",
              "    </tr>\n",
              "    <tr>\n",
              "      <th>2019-01-01</th>\n",
              "      <td>2019-01-01</td>\n",
              "      <td>219.95</td>\n",
              "      <td>221.05</td>\n",
              "      <td>218.05</td>\n",
              "      <td>218.95</td>\n",
              "      <td>219.1</td>\n",
              "      <td>716275</td>\n",
              "      <td>1571.63</td>\n",
              "    </tr>\n",
              "    <tr>\n",
              "      <th>2019-01-02</th>\n",
              "      <td>2019-01-02</td>\n",
              "      <td>219</td>\n",
              "      <td>220.35</td>\n",
              "      <td>213.6</td>\n",
              "      <td>214.2</td>\n",
              "      <td>214.6</td>\n",
              "      <td>1.08178e+06</td>\n",
              "      <td>2340.31</td>\n",
              "    </tr>\n",
              "    <tr>\n",
              "      <th>2019-01-03</th>\n",
              "      <td>2019-01-03</td>\n",
              "      <td>214.95</td>\n",
              "      <td>215.35</td>\n",
              "      <td>209.9</td>\n",
              "      <td>210.55</td>\n",
              "      <td>210.05</td>\n",
              "      <td>2.09655e+06</td>\n",
              "      <td>4433.5</td>\n",
              "    </tr>\n",
              "    <tr>\n",
              "      <th>2019-01-04</th>\n",
              "      <td>2019-01-04</td>\n",
              "      <td>210.6</td>\n",
              "      <td>214.9</td>\n",
              "      <td>210</td>\n",
              "      <td>213.5</td>\n",
              "      <td>213.8</td>\n",
              "      <td>1.21318e+06</td>\n",
              "      <td>2583.05</td>\n",
              "    </tr>\n",
              "  </tbody>\n",
              "</table>\n",
              "<p>2100 rows × 8 columns</p>\n",
              "</div>"
            ],
            "text/plain": [
              "                 Date    Open  ... Total Trade Quantity Turnover (Lacs)\n",
              "Date                           ...                                     \n",
              "2010-07-21 2010-07-21   122.1  ...               658666          803.56\n",
              "2010-07-22 2010-07-22   120.3  ...               293312          355.17\n",
              "2010-07-23 2010-07-23   121.8  ...               281312          340.31\n",
              "2010-07-26 2010-07-26   120.1  ...               658440          780.01\n",
              "2010-07-27 2010-07-27   117.6  ...               586100          694.98\n",
              "...               ...     ...  ...                  ...             ...\n",
              "2018-12-31 2018-12-31     222  ...               965858         2131.09\n",
              "2019-01-01 2019-01-01  219.95  ...               716275         1571.63\n",
              "2019-01-02 2019-01-02     219  ...          1.08178e+06         2340.31\n",
              "2019-01-03 2019-01-03  214.95  ...          2.09655e+06          4433.5\n",
              "2019-01-04 2019-01-04   210.6  ...          1.21318e+06         2583.05\n",
              "\n",
              "[2100 rows x 8 columns]"
            ]
          },
          "metadata": {
            "tags": []
          },
          "execution_count": 65
        }
      ]
    },
    {
      "cell_type": "code",
      "metadata": {
        "id": "TaR-Z__TgsDX",
        "colab_type": "code",
        "colab": {}
      },
      "source": [
        "#creating dataframe\n",
        "data = df.sort_index(ascending=True, axis=0)\n",
        "new_data = pd.DataFrame(index=range(0,len(df)),columns=['Date', 'Close'])\n",
        "for i in range(0,len(data)):\n",
        "    new_data['Date'][i] = data['Date'][i]\n",
        "    new_data['Close'][i] = data['Close'][i]"
      ],
      "execution_count": 0,
      "outputs": []
    },
    {
      "cell_type": "code",
      "metadata": {
        "id": "mBDOiMYOhCaf",
        "colab_type": "code",
        "colab": {}
      },
      "source": [
        "#setting index\n",
        "new_data.index = new_data.Date\n",
        "new_data.drop('Date', axis=1, inplace=True)"
      ],
      "execution_count": 0,
      "outputs": []
    },
    {
      "cell_type": "code",
      "metadata": {
        "id": "npwW8nTAhGOt",
        "colab_type": "code",
        "colab": {}
      },
      "source": [
        "new_data=new_data[:'2018']\n",
        "train=new_data[:'2017']\n",
        "valid=new_data['2018']"
      ],
      "execution_count": 0,
      "outputs": []
    },
    {
      "cell_type": "code",
      "metadata": {
        "id": "UkgM_MhXiA4X",
        "colab_type": "code",
        "colab": {}
      },
      "source": [
        "#creating train and test sets\n",
        "dataset = new_data.values"
      ],
      "execution_count": 0,
      "outputs": []
    },
    {
      "cell_type": "code",
      "metadata": {
        "id": "agc0BkEnhKaj",
        "colab_type": "code",
        "colab": {}
      },
      "source": [
        "#converting dataset into x_train and y_train\n",
        "scaler = MinMaxScaler(feature_range=(0, 1))\n",
        "scaled_data = scaler.fit_transform(dataset)"
      ],
      "execution_count": 0,
      "outputs": []
    },
    {
      "cell_type": "code",
      "metadata": {
        "id": "lmmbRYlxhyzq",
        "colab_type": "code",
        "colab": {}
      },
      "source": [
        "\n",
        "x_train, y_train = [], []\n",
        "for i in range(60,len(train)):\n",
        "    x_train.append(scaled_data[i-60:i,0])\n",
        "    y_train.append(scaled_data[i,0])\n",
        "x_train, y_train = np.array(x_train), np.array(y_train)"
      ],
      "execution_count": 0,
      "outputs": []
    },
    {
      "cell_type": "code",
      "metadata": {
        "id": "mtkRcdAAiEuR",
        "colab_type": "code",
        "colab": {
          "base_uri": "https://localhost:8080/",
          "height": 34
        },
        "outputId": "4561f25b-7aa7-4ca0-8936-465829409db9"
      },
      "source": [
        "x_train.shape,y_train.shape"
      ],
      "execution_count": 45,
      "outputs": [
        {
          "output_type": "execute_result",
          "data": {
            "text/plain": [
              "((1790, 60), (1790,))"
            ]
          },
          "metadata": {
            "tags": []
          },
          "execution_count": 45
        }
      ]
    },
    {
      "cell_type": "code",
      "metadata": {
        "id": "VzffNi9q1vzq",
        "colab_type": "code",
        "colab": {
          "base_uri": "https://localhost:8080/",
          "height": 357
        },
        "outputId": "b528e9d0-0450-4c7d-a458-71836aa9b65b"
      },
      "source": [
        "\n",
        "x_train = np.reshape(x_train, (x_train.shape[0],x_train.shape[1],1))\n",
        "\n",
        "# create and fit the LSTM network\n",
        "model = Sequential()\n",
        "model.add(Bidirectional(LSTM(units=50, return_sequences=True, input_shape=(x_train.shape[1],1))))\n",
        "model.add(LSTM(units=50))\n",
        "model.add(Dense(1))\n",
        "\n",
        "model.compile(loss='mean_squared_error', optimizer='adam')\n",
        "model.fit(x_train, y_train, epochs=10, batch_size=28, verbose=2)\n",
        "\n",
        "#predicting 246 values, using past 60 from the train data\n",
        "inputs = new_data[len(new_data) - len(valid) - 60:].values\n",
        "inputs = inputs.reshape(-1,1)\n",
        "inputs  = scaler.transform(inputs)\n",
        "\n",
        "X_test = []\n",
        "for i in range(60,inputs.shape[0]):\n",
        "    X_test.append(inputs[i-60:i,0])\n",
        "X_test = np.array(X_test)\n",
        "\n",
        "X_test = np.reshape(X_test, (X_test.shape[0],X_test.shape[1],1))\n",
        "closing_price = model.predict(X_test)\n",
        "closing_price = scaler.inverse_transform(closing_price)"
      ],
      "execution_count": 68,
      "outputs": [
        {
          "output_type": "stream",
          "text": [
            "Epoch 1/10\n",
            " - 20s - loss: 0.0037\n",
            "Epoch 2/10\n",
            " - 18s - loss: 5.5743e-04\n",
            "Epoch 3/10\n",
            " - 18s - loss: 4.8776e-04\n",
            "Epoch 4/10\n",
            " - 18s - loss: 4.3177e-04\n",
            "Epoch 5/10\n",
            " - 17s - loss: 3.8678e-04\n",
            "Epoch 6/10\n",
            " - 18s - loss: 3.6155e-04\n",
            "Epoch 7/10\n",
            " - 18s - loss: 3.4421e-04\n",
            "Epoch 8/10\n",
            " - 18s - loss: 3.5551e-04\n",
            "Epoch 9/10\n",
            " - 17s - loss: 3.3940e-04\n",
            "Epoch 10/10\n",
            " - 17s - loss: 2.9228e-04\n"
          ],
          "name": "stdout"
        }
      ]
    },
    {
      "cell_type": "code",
      "metadata": {
        "id": "T1aurKPx2S9_",
        "colab_type": "code",
        "colab": {
          "base_uri": "https://localhost:8080/",
          "height": 509
        },
        "outputId": "8f79e008-d580-4d9b-8abf-29357e01ffbc"
      },
      "source": [
        "#for plotting\n",
        "plt.figure(figsize=(10,5))\n",
        "valid['Predictions'] = closing_price\n",
        "plt.plot(train['Close'],label='Train')\n",
        "plt.plot(valid['Close'],label='Valid')\n",
        "plt.plot(valid['Predictions'],label='Prediction')\n",
        "plt.legend()\n",
        "\n",
        "plt.title('RMSE Score :{:2f}'.format(np.sqrt(mean_squared_error(valid['Close'],valid['Predictions']))))"
      ],
      "execution_count": 69,
      "outputs": [
        {
          "output_type": "stream",
          "text": [
            "/usr/local/lib/python3.6/dist-packages/ipykernel_launcher.py:3: SettingWithCopyWarning:\n",
            "\n",
            "\n",
            "A value is trying to be set on a copy of a slice from a DataFrame.\n",
            "Try using .loc[row_indexer,col_indexer] = value instead\n",
            "\n",
            "See the caveats in the documentation: https://pandas.pydata.org/pandas-docs/stable/user_guide/indexing.html#returning-a-view-versus-a-copy\n",
            "\n"
          ],
          "name": "stderr"
        },
        {
          "output_type": "execute_result",
          "data": {
            "text/plain": [
              "Text(0.5, 1.0, 'RMSE Score :7.760459')"
            ]
          },
          "metadata": {
            "tags": []
          },
          "execution_count": 69
        },
        {
          "output_type": "display_data",
          "data": {
            "image/png": "[encoded data removed]",
            "text/plain": [
              "<Figure size 720x360 with 1 Axes>"
            ]
          },
          "metadata": {
            "tags": [],
            "needs_background": "light"
          }
        }
      ]
    },
    {
      "cell_type": "code",
      "metadata": {
        "id": "DhubxYh72b6j",
        "colab_type": "code",
        "colab": {}
      },
      "source": [
        "# it look like we cought almost the same trend with RMSE 7."
      ],
      "execution_count": 0,
      "outputs": []
    }
  ]
}